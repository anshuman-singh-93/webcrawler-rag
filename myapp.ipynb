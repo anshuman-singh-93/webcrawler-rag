{
 "cells": [
  {
   "cell_type": "code",
   "execution_count": null,
   "id": "4b24e3b0",
   "metadata": {},
   "outputs": [],
   "source": [
    "from langchain_community.document_loaders import TextLoader,PyPDFLoader\n",
    "\n",
    "\n",
    "loader = TextLoader(\"data/sample.txt\")"
   ]
  },
  {
   "cell_type": "code",
   "execution_count": null,
   "id": "c47f052c",
   "metadata": {},
   "outputs": [],
   "source": [
    "loader"
   ]
  },
  {
   "cell_type": "code",
   "execution_count": null,
   "id": "6af5eef0",
   "metadata": {},
   "outputs": [],
   "source": [
    "text_document = loader.load()"
   ]
  },
  {
   "cell_type": "code",
   "execution_count": null,
   "id": "3cd60982",
   "metadata": {},
   "outputs": [],
   "source": [
    "pdfloader = PyPDFLoader(\"data/leading-snowflake.pdf\")"
   ]
  },
  {
   "cell_type": "code",
   "execution_count": null,
   "id": "ccdd979b",
   "metadata": {},
   "outputs": [],
   "source": [
    "from langchain_text_splitters import RecursiveCharacterTextSplitter\n",
    "\n",
    "text_splitter = RecursiveCharacterTextSplitter(separators=[\"\\n\"])\n",
    "from langchain_community.document_loaders import TextLoader,PyPDFLoader\n",
    "\n",
    "\n",
    "loader = TextLoader(\"data/dummy_text.txt\")\n",
    "text_document = loader.load()\n",
    "text = ''\n",
    "\n",
    "with open(\"data/dummy_text.txt\", 'r') as f:\n",
    "    text = f.read()\n",
    "\n",
    "data = text_splitter.split_documents(text_document)"
   ]
  },
  {
   "cell_type": "code",
   "execution_count": 45,
   "id": "de884430",
   "metadata": {},
   "outputs": [
    {
     "data": {
      "text/plain": [
       "[Document(metadata={'source': 'data/cv.pdf', 'creator': 'PyPDF', 'page': 0, 'creationdate': '', 'producer': 'Skia/PDF m85', 'page_label': '1', 'total_pages': 1}, page_content='● \\nBuilt Serverless apps on AWS using Lambda, DynamoDB, API Gateway etc.\\n\\xa0\\n● \\nBuilt couple of web-apps and mobile apps  using Angular and Ionic.\\n\\xa0\\n● \\nBuilt and deployed  a Full fledged application powered by Blockchain.\\n\\xa0\\nEDUCATION\\n\\xa0\\n\\xa0\\nTezpur Central University  (2012-2016)\\n\\xa0\\nB.TECH  (CSE)'),\n",
       " Document(metadata={'creationdate': '', 'page': 0, 'producer': 'Skia/PDF m85', 'total_pages': 1, 'page_label': '1', 'creator': 'PyPDF', 'source': 'data/cv.pdf'}, page_content='● \\nBuilt Serverless apps on AWS using Lambda, DynamoDB, API Gateway etc.\\n\\xa0\\n● \\nBuilt couple of web-apps and mobile apps  using Angular and Ionic.\\n\\xa0\\n● \\nBuilt and deployed  a Full fledged application powered by Blockchain.\\n\\xa0\\nEDUCATION\\n\\xa0\\n\\xa0\\nTezpur Central University  (2012-2016)\\n\\xa0\\nB.TECH  (CSE)'),\n",
       " Document(metadata={'page': 0, 'producer': 'Skia/PDF m85', 'source': 'data/cv.pdf', 'creator': 'PyPDF', 'creationdate': '', 'page_label': '1', 'total_pages': 1}, page_content='● \\nhttps://stackoverflow.com/users/3411933/anshuman-singh\\n\\xa0\\n\\xa0\\n\\xa0\\nSKILLS\\n\\xa0\\n\\xa0\\n● \\nData structures and Algorithms\\n\\xa0\\n● \\nJavascript (ES5,ES6), Typescript\\n\\xa0\\n● \\nNode.js, Express, GraphQL\\n\\xa0\\n● \\nElasticsearch, Logstash, Kibana\\n\\xa0\\n● \\nRedis, Mysql, DynamoDB\\n\\xa0\\n●'),\n",
       " Document(metadata={'page': 0, 'total_pages': 1, 'page_label': '1', 'producer': 'Skia/PDF m85', 'source': 'data/cv.pdf', 'creationdate': '', 'creator': 'PyPDF'}, page_content='● \\nhttps://stackoverflow.com/users/3411933/anshuman-singh\\n\\xa0\\n\\xa0\\n\\xa0\\nSKILLS\\n\\xa0\\n\\xa0\\n● \\nData structures and Algorithms\\n\\xa0\\n● \\nJavascript (ES5,ES6), Typescript\\n\\xa0\\n● \\nNode.js, Express, GraphQL\\n\\xa0\\n● \\nElasticsearch, Logstash, Kibana\\n\\xa0\\n● \\nRedis, Mysql, DynamoDB\\n\\xa0\\n●')]"
      ]
     },
     "execution_count": 45,
     "metadata": {},
     "output_type": "execute_result"
    },
    {
     "name": "stderr",
     "output_type": "stream",
     "text": [
      "Bad pipe message: %s [b'A\\x9f\\xc1)m7\\xe2\\xee\\x1f\\x01\\xb5\\xa43R\\xf7K\\x9d5\\x00\\x01|\\x00\\x00\\x00\\x01\\x00\\x02\\x00\\x03\\x00\\x04\\x00\\x05\\x00\\x06\\x00\\x07\\x00\\x08\\x00\\t\\x00\\n\\x00\\x0b\\x00\\x0c\\x00\\r\\x00\\x0e\\x00\\x0f\\x00\\x10\\x00\\x11\\x00\\x12\\x00\\x13\\x00\\x14\\x00\\x15\\x00\\x16\\x00\\x17\\x00\\x18\\x00\\x19\\x00\\x1a\\x00\\x1b\\x00/\\x000\\x001\\x002\\x003\\x004\\x005\\x006\\x007\\x008\\x009\\x00:\\x00;\\x00<\\x00=\\x00>\\x00?\\x00@\\x00A\\x00B\\x00C\\x00D\\x00']\n",
      "Bad pipe message: %s [b'F\\x00g\\x00h\\x00i\\x00j\\x00k\\x00l\\x00m\\x00\\x84\\x00\\x85\\x00\\x86\\x00\\x87\\x00\\x88\\x00\\x89\\x00\\x96\\x00\\x97\\x00\\x98\\x00\\x99\\x00\\x9a\\x00\\x9b\\x00\\x9c\\x00\\x9d\\x00\\x9e\\x00\\x9f\\x00\\xa0\\x00\\xa1\\x00\\xa2\\x00\\xa3\\x00\\xa4\\x00\\xa5\\x00\\xa6\\x00\\xa7\\x00\\xba\\x00\\xbb\\x00']\n",
      "Bad pipe message: %s [b\"\\xbd\\x00\\xbe\\x00\\xbf\\x00\\xc0\\x00\\xc1\\x00\\xc2\\x00\\xc3\\x00\\xc4\\x00\\xc5\\x13\\x01\\x13\\x02\\x13\\x03\\x13\\x04\\x13\\x05\\xc0\\x01\\xc0\\x02\\xc0\\x03\\xc0\\x04\\xc0\\x05\\xc0\\x06\\xc0\\x07\\xc0\\x08\\xc0\\t\\xc0\\n\\xc0\\x0b\\xc0\\x0c\\xc0\\r\\xc0\\x0e\\xc0\\x0f\\xc0\\x10\\xc0\\x11\\xc0\\x12\\xc0\\x13\\xc0\\x14\\xc0\\x15\\xc0\\x16\\xc0\\x17\\xc0\\x18\\xc0\\x19\\xc0#\\xc0$\\xc0%\\xc0&\\xc0'\\xc0(\\xc0)\\xc0*\\xc0+\\xc0,\\xc0-\\xc0.\\xc0/\\xc00\\xc01\\xc02\\xc0r\\xc0s\\xc0t\\xc0u\\xc0v\\xc0w\\xc0x\\xc0y\\xc0z\\xc0{\\xc0|\\xc0}\\xc0~\\xc0\\x7f\\xc0\\x80\\xc0\\x81\\xc0\\x82\\xc0\\x83\\xc0\\x84\\xc0\\x85\\xc0\\x86\\xc0\\x87\\xc0\\x88\\xc0\\x89\\xc0\\x8a\\xc0\\x8b\\xc0\\x8c\\xc0\\x8d\\xc0\\x8e\\xc0\\x8f\\xc0\\x90\\xc0\\x91\\xc0\\x92\\xc0\\x93\\xc0\\x94\\xc0\\x95\\xc0\\x96\\xc0\\x97\\xc0\\x98\"]\n",
      "Bad pipe message: %s [b'x\\xbf\\xd7c\\x7f\\x1a%\\xd9\\xe8\\x15,P<\\x1e)\\x01\\xd5\\xa3\\x00\\x01|\\x00\\x00\\x00\\x01\\x00\\x02\\x00\\x03\\x00\\x04\\x00\\x05\\x00\\x06\\x00\\x07\\x00\\x08\\x00\\t']\n"
     ]
    }
   ],
   "source": [
    "from dotenv import load_dotenv\n",
    "import os\n",
    "from langchain_community.document_loaders import PyPDFLoader\n",
    "from langchain_text_splitters import RecursiveCharacterTextSplitter\n",
    "from langchain_community.vectorstores import Chroma\n",
    "from langchain_openai.embeddings import OpenAIEmbeddings\n",
    "\n",
    "load_dotenv()\n",
    "os.environ[\"OPENAI_API_KEY\"] = os.getenv(\"OPENAI_API_KEY\")\n",
    "pypdfLoader = PyPDFLoader(file_path=\"data/cv.pdf\")\n",
    "\n",
    "docs = pypdfLoader.load()\n",
    "\n",
    "textSplitter = RecursiveCharacterTextSplitter(chunk_size = 300, chunk_overlap = 10)\n",
    "final_documents = textSplitter.split_documents(docs)\n",
    "embeddings = OpenAIEmbeddings(model=\"text-embedding-3-small\", dimensions=1000)\n",
    "vectorStoreDB = Chroma.from_documents(documents=final_documents, embedding=embeddings, persist_directory=\"db\")\n",
    "\n",
    "query = \"Which college did the person attend?\"\n",
    "answer = vectorStoreDB.similarity_search(query)\n",
    "answer\n",
    "\n",
    "\n"
   ]
  }
 ],
 "metadata": {
  "kernelspec": {
   "display_name": "myenv",
   "language": "python",
   "name": "python3"
  },
  "language_info": {
   "codemirror_mode": {
    "name": "ipython",
    "version": 3
   },
   "file_extension": ".py",
   "mimetype": "text/x-python",
   "name": "python",
   "nbconvert_exporter": "python",
   "pygments_lexer": "ipython3",
   "version": "3.12.7"
  }
 },
 "nbformat": 4,
 "nbformat_minor": 5
}
